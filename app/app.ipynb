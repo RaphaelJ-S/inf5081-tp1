{
 "cells": [
  {
   "cell_type": "code",
   "execution_count": 3,
   "metadata": {},
   "outputs": [],
   "source": [
    "import jupyter\n",
    "import matplotlib.pyplot as plt\n",
    "import numpy\n",
    "import pandas as pd\n",
    "import scipy\n",
    "from sklearn import tree\n",
    "from sklearn.datasets import load_iris\n",
    "from classes.data import Data\n"
   ]
  },
  {
   "cell_type": "code",
   "execution_count": 4,
   "metadata": {},
   "outputs": [],
   "source": [
    "def load_data(file):\n",
    "    data = []\n",
    "    with open(file) as f:\n",
    "        for line in f:\n",
    "            data.append(line.strip(\"\\n\").split(\",\"))\n",
    "    return data\n",
    "\n",
    "def decision_tree(data, classLabel):\n",
    "    arbre = tree.DecisionTreeClassifier()\n",
    "    return arbre.fit(data, classLabel)\n",
    "\n",
    "\n"
   ]
  },
  {
   "cell_type": "code",
   "execution_count": 5,
   "metadata": {},
   "outputs": [],
   "source": [
    "\n",
    "\n",
    "def main():\n",
    "    data = Data(load_data(\"glass.data\"))\n",
    "    X, y = data.sliceLabel()\n",
    "    arbre = decision_tree(X, y)\n",
    "    tree.plot_tree(arbre)\n",
    "    plt.show()\n"
   ]
  }
 ],
 "metadata": {
  "interpreter": {
   "hash": "3c5dc25b760786c92b265cb9a2e4c62368d71c31ffad1f2cd2a20958969d66cc"
  },
  "kernelspec": {
   "display_name": "Python 3.9.6 64-bit ('env': venv)",
   "name": "python3"
  },
  "language_info": {
   "codemirror_mode": {
    "name": "ipython",
    "version": 3
   },
   "file_extension": ".py",
   "mimetype": "text/x-python",
   "name": "python",
   "nbconvert_exporter": "python",
   "pygments_lexer": "ipython3",
   "version": "3.9.6"
  },
  "orig_nbformat": 4
 },
 "nbformat": 4,
 "nbformat_minor": 2
}
